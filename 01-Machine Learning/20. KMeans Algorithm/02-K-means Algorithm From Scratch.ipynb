{
 "cells": [
  {
   "cell_type": "markdown",
   "id": "b6aad2d5",
   "metadata": {},
   "source": [
    "#### 1. Import the lib's"
   ]
  },
  {
   "cell_type": "code",
   "execution_count": 14,
   "id": "08cac436",
   "metadata": {},
   "outputs": [],
   "source": [
    "from sklearn.datasets import make_blobs\n",
    "import matplotlib.pyplot as plt\n",
    "from kmeans import KMeans\n",
    "import pandas as pd\n",
    "import sklearn\n"
   ]
  },
  {
   "cell_type": "markdown",
   "id": "b0b36774",
   "metadata": {},
   "source": [
    "#### 2. Make our own custom class for the kmeans"
   ]
  },
  {
   "cell_type": "code",
   "execution_count": 29,
   "id": "421b9c61",
   "metadata": {},
   "outputs": [],
   "source": [
    "class KMeans:\n",
    "    \n",
    "    # Initialize the constructor\n",
    "    def __init__(self,n_clusters=2,max_iter=300):\n",
    "        \n",
    "        # Assign the clusters\n",
    "        self.n_clusters = n_clusters\n",
    "        \n",
    "        # Initialize the max_iterations\n",
    "        self.max_iter = max_iter\n",
    "        \n",
    "        # initialize the centroids\n",
    "        self.centroids = None\n",
    "        \n",
    "    # Define the fit_predict\n",
    "    def fit_predict(self,X):\n",
    "\n",
    "        # Extract the random index\n",
    "        random_index = random.sample(range(0,X.shape[0]),self.n_clusters)\n",
    "        \n",
    "        # Make the random index as a centroid\n",
    "        self.centroids = X[random_index]\n",
    "\n",
    "        # Iterate till the max_iterations\n",
    "        for i in range(self.max_iter):\n",
    "            \n",
    "            # assign clusters\n",
    "            cluster_group = self.assign_clusters(X)\n",
    "            old_centroids = self.centroids\n",
    "            \n",
    "            # move centroids\n",
    "            self.centroids = self.move_centroids(X,cluster_group)\n",
    "            \n",
    "            # check finish\n",
    "            if (old_centroids == self.centroids).all():\n",
    "                break\n",
    "\n",
    "        # Finally return the cluster group\n",
    "        return cluster_group\n",
    "\n",
    "    # Define the assign clusters\n",
    "    def assign_clusters(self,X):\n",
    "        \n",
    "        # Create the cluster_group\n",
    "        cluster_group = []\n",
    "        \n",
    "        # Create the distances list\n",
    "        distances = []\n",
    "\n",
    "        # Travel for each row\n",
    "        for row in X:\n",
    "            \n",
    "            # Compute the centroid for each point\n",
    "            for centroid in self.centroids:\n",
    "                \n",
    "                # Now append this centroid as a scalar value in distance list\n",
    "                distances.append(np.sqrt(np.dot(row-centroid,row-centroid)))\n",
    "            \n",
    "            # Extract the min distances\n",
    "            min_distance = min(distances)\n",
    "            \n",
    "            # Extract the index_position in the distances array\n",
    "            index_pos = distances.index(min_distance)\n",
    "            \n",
    "            # Append it to the cluster group\n",
    "            cluster_group.append(index_pos)\n",
    "            \n",
    "            # Now after this iteration clear the distances array\n",
    "            distances.clear()\n",
    "\n",
    "        # Fianlly return the cluster_group after converting into array\n",
    "        return np.array(cluster_group)\n",
    "\n",
    "    # Define the move centroids\n",
    "    def move_centroids(self,X,cluster_group):\n",
    "        \n",
    "        # Define a new list of centroids\n",
    "        new_centroids = []\n",
    "\n",
    "        # Extract the unique clusters from the cluster_group\n",
    "        cluster_type = np.unique(cluster_group)\n",
    "\n",
    "        # Iterate on the cluster group\n",
    "        for type in cluster_type:\n",
    "            \n",
    "            # Append mean to the new centroid\n",
    "            new_centroids.append(X[cluster_group == type].mean(axis=0))\n",
    "\n",
    "        # Finally return the new_centroids\n",
    "        return np.array(new_centroids)\n"
   ]
  },
  {
   "cell_type": "markdown",
   "id": "97ce5cf8",
   "metadata": {},
   "source": [
    "#### 3. Importing the dataset"
   ]
  },
  {
   "cell_type": "code",
   "execution_count": 30,
   "id": "730c9685",
   "metadata": {},
   "outputs": [
    {
     "data": {
      "text/html": [
       "<div>\n",
       "<style scoped>\n",
       "    .dataframe tbody tr th:only-of-type {\n",
       "        vertical-align: middle;\n",
       "    }\n",
       "\n",
       "    .dataframe tbody tr th {\n",
       "        vertical-align: top;\n",
       "    }\n",
       "\n",
       "    .dataframe thead th {\n",
       "        text-align: right;\n",
       "    }\n",
       "</style>\n",
       "<table border=\"1\" class=\"dataframe\">\n",
       "  <thead>\n",
       "    <tr style=\"text-align: right;\">\n",
       "      <th></th>\n",
       "      <th>cgpa</th>\n",
       "      <th>iq</th>\n",
       "    </tr>\n",
       "  </thead>\n",
       "  <tbody>\n",
       "    <tr>\n",
       "      <th>0</th>\n",
       "      <td>5.13</td>\n",
       "      <td>88</td>\n",
       "    </tr>\n",
       "    <tr>\n",
       "      <th>1</th>\n",
       "      <td>5.90</td>\n",
       "      <td>113</td>\n",
       "    </tr>\n",
       "    <tr>\n",
       "      <th>2</th>\n",
       "      <td>8.36</td>\n",
       "      <td>93</td>\n",
       "    </tr>\n",
       "    <tr>\n",
       "      <th>3</th>\n",
       "      <td>8.27</td>\n",
       "      <td>97</td>\n",
       "    </tr>\n",
       "    <tr>\n",
       "      <th>4</th>\n",
       "      <td>5.45</td>\n",
       "      <td>110</td>\n",
       "    </tr>\n",
       "    <tr>\n",
       "      <th>...</th>\n",
       "      <td>...</td>\n",
       "      <td>...</td>\n",
       "    </tr>\n",
       "    <tr>\n",
       "      <th>195</th>\n",
       "      <td>4.68</td>\n",
       "      <td>89</td>\n",
       "    </tr>\n",
       "    <tr>\n",
       "      <th>196</th>\n",
       "      <td>8.57</td>\n",
       "      <td>118</td>\n",
       "    </tr>\n",
       "    <tr>\n",
       "      <th>197</th>\n",
       "      <td>5.85</td>\n",
       "      <td>112</td>\n",
       "    </tr>\n",
       "    <tr>\n",
       "      <th>198</th>\n",
       "      <td>6.23</td>\n",
       "      <td>108</td>\n",
       "    </tr>\n",
       "    <tr>\n",
       "      <th>199</th>\n",
       "      <td>8.82</td>\n",
       "      <td>117</td>\n",
       "    </tr>\n",
       "  </tbody>\n",
       "</table>\n",
       "<p>200 rows × 2 columns</p>\n",
       "</div>"
      ],
      "text/plain": [
       "     cgpa   iq\n",
       "0    5.13   88\n",
       "1    5.90  113\n",
       "2    8.36   93\n",
       "3    8.27   97\n",
       "4    5.45  110\n",
       "..    ...  ...\n",
       "195  4.68   89\n",
       "196  8.57  118\n",
       "197  5.85  112\n",
       "198  6.23  108\n",
       "199  8.82  117\n",
       "\n",
       "[200 rows x 2 columns]"
      ]
     },
     "execution_count": 30,
     "metadata": {},
     "output_type": "execute_result"
    }
   ],
   "source": [
    "df= pd.read_csv('sc.csv')\n",
    "df"
   ]
  },
  {
   "cell_type": "markdown",
   "id": "57f4a7e6",
   "metadata": {},
   "source": [
    "#### 4. Import the kmeans"
   ]
  },
  {
   "cell_type": "code",
   "execution_count": 36,
   "id": "5fa53d25",
   "metadata": {},
   "outputs": [
    {
     "data": {
      "image/png": "[encoded data removed]",
      "text/plain": [
       "<Figure size 432x288 with 1 Axes>"
      ]
     },
     "metadata": {
      "needs_background": "light"
     },
     "output_type": "display_data"
    }
   ],
   "source": [
    "import random\n",
    "km = KMeans(n_clusters=4,max_iter=500)\n",
    "y_means = km.fit_predict(X)\n",
    "\n",
    "plt.scatter(X[y_means == 0,0],X[y_means == 0,1],color='red')\n",
    "plt.scatter(X[y_means == 1,0],X[y_means == 1,1],color='blue')\n",
    "plt.scatter(X[y_means == 2,0],X[y_means == 2,1],color='green')\n",
    "plt.scatter(X[y_means == 3,0],X[y_means == 3,1],color='yellow')\n",
    "plt.show()"
   ]
  }
 ],
 "metadata": {
  "kernelspec": {
   "display_name": "Python 3 (ipykernel)",
   "language": "python",
   "name": "python3"
  },
  "language_info": {
   "codemirror_mode": {
    "name": "ipython",
    "version": 3
   },
   "file_extension": ".py",
   "mimetype": "text/x-python",
   "name": "python",
   "nbconvert_exporter": "python",
   "pygments_lexer": "ipython3",
   "version": "3.8.10"
  }
 },
 "nbformat": 4,
 "nbformat_minor": 5
}
